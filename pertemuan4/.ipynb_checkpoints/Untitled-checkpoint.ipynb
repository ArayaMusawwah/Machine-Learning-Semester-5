{
 "cells": [
  {
   "cell_type": "code",
   "execution_count": null,
   "id": "45a54653-f054-4ceb-a164-6ffc01fb89df",
   "metadata": {},
   "outputs": [],
   "source": [
    "import pandas as pd\n",
    "\n",
    "# Baca CSV\n",
    "df = pd.read_csv(\"kelulusan_mahasiswa.csv\")\n",
    "\n",
    "# Info dataset\n",
    "print(df.info())\n",
    "print(df.head())\n"
   ]
  },
  {
   "cell_type": "code",
   "execution_count": null,
   "id": "1d5b0a51-1dde-428f-a3ca-fd95d0ff3ed2",
   "metadata": {},
   "outputs": [],
   "source": [
    "# Cek missing value\n",
    "print(df.isnull().sum())\n",
    "\n",
    "# Hapus duplikat (kalau ada)\n",
    "df = df.drop_duplicates()\n",
    "\n",
    "# Deteksi outlier dengan boxplot\n",
    "import seaborn as sns\n",
    "import matplotlib.pyplot as plt\n",
    "\n",
    "plt.figure(figsize=(6,4))\n",
    "sns.boxplot(x=df['IPK'])\n",
    "plt.show()\n"
   ]
  },
  {
   "cell_type": "code",
   "execution_count": null,
   "id": "4a45f580-59ee-4183-bbf6-d3299b7ad096",
   "metadata": {},
   "outputs": [],
   "source": [
    "df['IPK'] = df['IPK'].fillna(df['IPK'].median())"
   ]
  },
  {
   "cell_type": "code",
   "execution_count": null,
   "id": "455d0f0f-0059-4a83-8c95-4dc69312b37b",
   "metadata": {},
   "outputs": [],
   "source": [
    "# Statistik deskriptif\n",
    "print(df.describe())\n",
    "\n",
    "# Histogram IPK\n",
    "plt.figure(figsize=(6,4))\n",
    "sns.histplot(df['IPK'], bins=10, kde=True)\n",
    "plt.show()\n",
    "\n",
    "# Scatterplot\n",
    "plt.figure(figsize=(6,4))\n",
    "sns.scatterplot(x='IPK', y='Waktu_Belajar_Jam', data=df, hue='Lulus')\n",
    "plt.show()\n",
    "\n",
    "# Heatmap korelasi\n",
    "plt.figure(figsize=(6,4))\n",
    "sns.heatmap(df.corr(), annot=True, cmap=\"coolwarm\")\n",
    "plt.show()\n"
   ]
  },
  {
   "cell_type": "code",
   "execution_count": null,
   "id": "accba904-0cfd-4a4a-b49c-ff111c7b42f5",
   "metadata": {},
   "outputs": [],
   "source": [
    "df['Rasio_Absensi'] = df['Jumlah_Absensi'] / 14\n",
    "df['IPK_x_Study'] = df['IPK'] * df['Waktu_Belajar_Jam']\n",
    "\n",
    "# Simpan ke file baru\n",
    "df.to_csv(\"processed_kelulusan.csv\", index=False)\n"
   ]
  },
  {
   "cell_type": "code",
   "execution_count": null,
   "id": "c63dc7ee-c0f9-4715-941c-1bbacefc2621",
   "metadata": {},
   "outputs": [],
   "source": [
    "from sklearn.model_selection import train_test_split\n",
    "\n",
    "X = df.drop('Lulus', axis=1)\n",
    "y = df['Lulus']\n",
    "\n",
    "# Train 70%, sisanya 30%\n",
    "X_train, X_temp, y_train, y_temp = train_test_split(\n",
    "    X, y, test_size=0.3, stratify=y, random_state=42)\n",
    "\n",
    "# Dari 30% dibagi 2 (validation 15%, test 15%)\n",
    "X_val, X_test, y_val, y_test = train_test_split(\n",
    "    X_temp, y_temp, test_size=0.5, stratify=y_temp, random_state=42)\n",
    "\n",
    "print(\"Train:\", X_train.shape, y_train.shape)\n",
    "print(\"Val:\", X_val.shape, y_val.shape)\n",
    "print(\"Test:\", X_test.shape, y_test.shape)\n"
   ]
  }
 ],
 "metadata": {
  "kernelspec": {
   "display_name": "Python 3 (ipykernel)",
   "language": "python",
   "name": "python3"
  },
  "language_info": {
   "codemirror_mode": {
    "name": "ipython",
    "version": 3
   },
   "file_extension": ".py",
   "mimetype": "text/x-python",
   "name": "python",
   "nbconvert_exporter": "python",
   "pygments_lexer": "ipython3",
   "version": "3.10.11"
  }
 },
 "nbformat": 4,
 "nbformat_minor": 5
}
